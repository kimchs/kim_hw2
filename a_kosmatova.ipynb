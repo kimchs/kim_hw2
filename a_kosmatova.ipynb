{
 "cells": [
  {
   "cell_type": "code",
   "execution_count": null,
   "id": "004b7669-a54e-4f2d-b24f-e47986a9acd4",
   "metadata": {},
   "outputs": [],
   "source": [
    "secretword=\"Пингвин\" \n",
    "word=\"0\" \n",
    "count=3 \n",
    "print(\"Длина секретного слова: \", len(secretword)) \n",
    "while(word!=secretword and count>0): \n",
    "    word=str(input(\"Введите секретное слово: \")) \n",
    "    if word!=secretword: \n",
    "        print(\"Неверно, осталось\", count-1,\"попыток\") \n",
    "        count-=1"
   ]
  },
  {
   "cell_type": "code",
   "execution_count": null,
   "id": "616fe743-198a-4c70-a981-f7515a03280f",
   "metadata": {
    "tags": []
   },
   "outputs": [
    {
     "name": "stdout",
     "output_type": "stream",
     "text": [
      "Размер бюджета  1000 rub\n"
     ]
    }
   ],
   "source": [
    "budjet=10000 \n",
    "print(\"Размер бюджета \", 1000,\"rub\") \n",
    "trati=0 \n",
    "while (budjet>trati): \n",
    "    day=int(input(\"Какой день путешествия? \")) \n",
    "    trativden=int(input(\"Сколько потратили сегодня? \")) \n",
    "    if trativden<0: \n",
    "        print(\"Ошибка! Вы ввели отрицательное число\") \n",
    "    else: \n",
    "        trati+=trativden \n",
    "        print(\"Вы потратили \",trati,\"рублей , осталось:\",budjet-trati)"
   ]
  },
  {
   "cell_type": "code",
   "execution_count": null,
   "id": "3ba43293-0ed7-41c5-bbb7-5e79567e6a13",
   "metadata": {},
   "outputs": [],
   "source": []
  }
 ],
 "metadata": {
  "kernelspec": {
   "display_name": "Python 3 (ipykernel)",
   "language": "python",
   "name": "python3"
  },
  "language_info": {
   "codemirror_mode": {
    "name": "ipython",
    "version": 3
   },
   "file_extension": ".py",
   "mimetype": "text/x-python",
   "name": "python",
   "nbconvert_exporter": "python",
   "pygments_lexer": "ipython3",
   "version": "3.11.5"
  }
 },
 "nbformat": 4,
 "nbformat_minor": 5
}
